{
 "cells": [
  {
   "cell_type": "markdown",
   "metadata": {},
   "source": [
    "This notebook is developed using the `Python 3 (Data Science)` kernel on an `ml.t3.medium` instance."
   ]
  },
  {
   "cell_type": "code",
   "execution_count": 2,
   "metadata": {
    "tags": []
   },
   "outputs": [
    {
     "name": "stdout",
     "output_type": "stream",
     "text": [
      "Keyring is skipped due to an exception: 'keyring.backends'\n",
      "\u001b[33mWARNING: Running pip as the 'root' user can result in broken permissions and conflicting behaviour with the system package manager. It is recommended to use a virtual environment instead: https://pip.pypa.io/warnings/venv\u001b[0m\u001b[33m\n",
      "\u001b[0m\n",
      "\u001b[1m[\u001b[0m\u001b[34;49mnotice\u001b[0m\u001b[1;39;49m]\u001b[0m\u001b[39;49m A new release of pip available: \u001b[0m\u001b[31;49m22.3.1\u001b[0m\u001b[39;49m -> \u001b[0m\u001b[32;49m23.0\u001b[0m\n",
      "\u001b[1m[\u001b[0m\u001b[34;49mnotice\u001b[0m\u001b[1;39;49m]\u001b[0m\u001b[39;49m To update, run: \u001b[0m\u001b[32;49mpip install --upgrade pip\u001b[0m\n"
     ]
    }
   ],
   "source": [
    "!pip install -q sagemaker-experiments"
   ]
  },
  {
   "cell_type": "code",
   "execution_count": 4,
   "metadata": {
    "tags": []
   },
   "outputs": [
    {
     "name": "stdout",
     "output_type": "stream",
     "text": [
      "arn:aws:iam::075912829265:role/service-role/AmazonSageMaker-ExecutionRole-20230127T081684\n",
      "us-east-1\n",
      "sagemaker-studio-075912829265-fl4eu3b4xp5\n"
     ]
    }
   ],
   "source": [
    "import sagemaker\n",
    "import boto3\n",
    "\n",
    "role = sagemaker.get_execution_role()\n",
    "sess = sagemaker.Session()\n",
    "region = sess.boto_region_name\n",
    "bucket = 'sagemaker-studio-075912829265-fl4eu3b4xp5'\n",
    "prefix = 'sagemaker-studio-book/chapter06'\n",
    "\n",
    "print(role)\n",
    "print(region)\n",
    "print(bucket)"
   ]
  },
  {
   "cell_type": "code",
   "execution_count": 24,
   "metadata": {
    "tags": []
   },
   "outputs": [
    {
     "data": {
      "text/plain": [
       "'2.120.0'"
      ]
     },
     "execution_count": 24,
     "metadata": {},
     "output_type": "execute_result"
    }
   ],
   "source": [
    "sagemaker.__version__"
   ]
  },
  {
   "cell_type": "code",
   "execution_count": 25,
   "metadata": {
    "tags": []
   },
   "outputs": [],
   "source": [
    "from datetime import datetime, timedelta, timezone\n",
    "import json, os, re, uuid\n",
    "from time import sleep, gmtime, strftime\n",
    "\n",
    "import pandas as pd\n",
    "import numpy as np\n",
    "import matplotlib.pyplot as plt\n",
    "plt.style.use('fivethirtyeight')\n",
    "\n",
    "from smexperiments.experiment import Experiment\n",
    "from smexperiments.trial import Trial\n",
    "from botocore.exceptions import ClientError\n",
    "\n",
    "from sagemaker import image_uris\n",
    "from sagemaker.s3 import S3Uploader, S3Downloader\n",
    "from sagemaker.inputs import TrainingInput\n",
    "\n",
    "from sagemaker import clarify"
   ]
  },
  {
   "cell_type": "code",
   "execution_count": 6,
   "metadata": {
    "tags": []
   },
   "outputs": [],
   "source": [
    "orig_columns=['age', 'workclass', 'fnlwgt', 'education', 'education-num', 'marital-status', \n",
    "              'occupation', 'relationship', 'race', 'sex', 'capital-gain', 'capital-loss', \n",
    "              'hours-per-week', 'native-country', 'target']\n",
    "\n",
    "df=pd.read_csv('https://archive.ics.uci.edu/ml/machine-learning-databases/adult/adult.data', \n",
    "               names=orig_columns, sep=r'\\s*,\\s*', na_values='?', engine='python')\n",
    "df_valtest=pd.read_csv('https://archive.ics.uci.edu/ml/machine-learning-databases/adult/adult.test', \n",
    "               names=orig_columns, skiprows=1, sep=r'\\s*,\\s*', na_values='?', engine='python')\n",
    "\n",
    "df.drop(columns='education', inplace=True)\n",
    "df_valtest.drop(columns='education', inplace=True)\n",
    "df_valtest['target'] = df_valtest['target'].replace(to_replace=['<=50K.', '>50K.'], \n",
    "                                                    value=['<=50K', '>50K'])\n",
    "\n",
    "# move the target column to first for XGBoost\n",
    "new_columns=df.columns.tolist()\n",
    "new_columns=[new_columns[-1]]+new_columns[:-1]\n",
    "df=df[new_columns]\n",
    "df_valtest=df_valtest[new_columns]"
   ]
  },
  {
   "cell_type": "code",
   "execution_count": 7,
   "metadata": {
    "tags": []
   },
   "outputs": [
    {
     "data": {
      "text/html": [
       "<div>\n",
       "<style scoped>\n",
       "    .dataframe tbody tr th:only-of-type {\n",
       "        vertical-align: middle;\n",
       "    }\n",
       "\n",
       "    .dataframe tbody tr th {\n",
       "        vertical-align: top;\n",
       "    }\n",
       "\n",
       "    .dataframe thead th {\n",
       "        text-align: right;\n",
       "    }\n",
       "</style>\n",
       "<table border=\"1\" class=\"dataframe\">\n",
       "  <thead>\n",
       "    <tr style=\"text-align: right;\">\n",
       "      <th></th>\n",
       "      <th>target</th>\n",
       "      <th>age</th>\n",
       "      <th>workclass</th>\n",
       "      <th>fnlwgt</th>\n",
       "      <th>education-num</th>\n",
       "      <th>marital-status</th>\n",
       "      <th>occupation</th>\n",
       "      <th>relationship</th>\n",
       "      <th>race</th>\n",
       "      <th>sex</th>\n",
       "      <th>capital-gain</th>\n",
       "      <th>capital-loss</th>\n",
       "      <th>hours-per-week</th>\n",
       "      <th>native-country</th>\n",
       "    </tr>\n",
       "  </thead>\n",
       "  <tbody>\n",
       "    <tr>\n",
       "      <th>0</th>\n",
       "      <td>&lt;=50K</td>\n",
       "      <td>39</td>\n",
       "      <td>State-gov</td>\n",
       "      <td>77516</td>\n",
       "      <td>13</td>\n",
       "      <td>Never-married</td>\n",
       "      <td>Adm-clerical</td>\n",
       "      <td>Not-in-family</td>\n",
       "      <td>White</td>\n",
       "      <td>Male</td>\n",
       "      <td>2174</td>\n",
       "      <td>0</td>\n",
       "      <td>40</td>\n",
       "      <td>United-States</td>\n",
       "    </tr>\n",
       "    <tr>\n",
       "      <th>1</th>\n",
       "      <td>&lt;=50K</td>\n",
       "      <td>50</td>\n",
       "      <td>Self-emp-not-inc</td>\n",
       "      <td>83311</td>\n",
       "      <td>13</td>\n",
       "      <td>Married-civ-spouse</td>\n",
       "      <td>Exec-managerial</td>\n",
       "      <td>Husband</td>\n",
       "      <td>White</td>\n",
       "      <td>Male</td>\n",
       "      <td>0</td>\n",
       "      <td>0</td>\n",
       "      <td>13</td>\n",
       "      <td>United-States</td>\n",
       "    </tr>\n",
       "    <tr>\n",
       "      <th>2</th>\n",
       "      <td>&lt;=50K</td>\n",
       "      <td>38</td>\n",
       "      <td>Private</td>\n",
       "      <td>215646</td>\n",
       "      <td>9</td>\n",
       "      <td>Divorced</td>\n",
       "      <td>Handlers-cleaners</td>\n",
       "      <td>Not-in-family</td>\n",
       "      <td>White</td>\n",
       "      <td>Male</td>\n",
       "      <td>0</td>\n",
       "      <td>0</td>\n",
       "      <td>40</td>\n",
       "      <td>United-States</td>\n",
       "    </tr>\n",
       "    <tr>\n",
       "      <th>3</th>\n",
       "      <td>&lt;=50K</td>\n",
       "      <td>53</td>\n",
       "      <td>Private</td>\n",
       "      <td>234721</td>\n",
       "      <td>7</td>\n",
       "      <td>Married-civ-spouse</td>\n",
       "      <td>Handlers-cleaners</td>\n",
       "      <td>Husband</td>\n",
       "      <td>Black</td>\n",
       "      <td>Male</td>\n",
       "      <td>0</td>\n",
       "      <td>0</td>\n",
       "      <td>40</td>\n",
       "      <td>United-States</td>\n",
       "    </tr>\n",
       "    <tr>\n",
       "      <th>4</th>\n",
       "      <td>&lt;=50K</td>\n",
       "      <td>28</td>\n",
       "      <td>Private</td>\n",
       "      <td>338409</td>\n",
       "      <td>13</td>\n",
       "      <td>Married-civ-spouse</td>\n",
       "      <td>Prof-specialty</td>\n",
       "      <td>Wife</td>\n",
       "      <td>Black</td>\n",
       "      <td>Female</td>\n",
       "      <td>0</td>\n",
       "      <td>0</td>\n",
       "      <td>40</td>\n",
       "      <td>Cuba</td>\n",
       "    </tr>\n",
       "  </tbody>\n",
       "</table>\n",
       "</div>"
      ],
      "text/plain": [
       "  target  age         workclass  fnlwgt  education-num      marital-status  \\\n",
       "0  <=50K   39         State-gov   77516             13       Never-married   \n",
       "1  <=50K   50  Self-emp-not-inc   83311             13  Married-civ-spouse   \n",
       "2  <=50K   38           Private  215646              9            Divorced   \n",
       "3  <=50K   53           Private  234721              7  Married-civ-spouse   \n",
       "4  <=50K   28           Private  338409             13  Married-civ-spouse   \n",
       "\n",
       "          occupation   relationship   race     sex  capital-gain  \\\n",
       "0       Adm-clerical  Not-in-family  White    Male          2174   \n",
       "1    Exec-managerial        Husband  White    Male             0   \n",
       "2  Handlers-cleaners  Not-in-family  White    Male             0   \n",
       "3  Handlers-cleaners        Husband  Black    Male             0   \n",
       "4     Prof-specialty           Wife  Black  Female             0   \n",
       "\n",
       "   capital-loss  hours-per-week native-country  \n",
       "0             0              40  United-States  \n",
       "1             0              13  United-States  \n",
       "2             0              40  United-States  \n",
       "3             0              40  United-States  \n",
       "4             0              40           Cuba  "
      ]
     },
     "execution_count": 7,
     "metadata": {},
     "output_type": "execute_result"
    }
   ],
   "source": [
    "df.head()"
   ]
  },
  {
   "cell_type": "code",
   "execution_count": 8,
   "metadata": {
    "tags": []
   },
   "outputs": [],
   "source": [
    "from sklearn import preprocessing\n",
    "\n",
    "categorical_columns=df.select_dtypes(include='object').columns\n",
    "\n",
    "encoder=preprocessing.OrdinalEncoder(dtype=int)\n",
    "df[categorical_columns]=encoder.fit_transform(df[categorical_columns].fillna('NaN'))\n",
    "df_valtest[categorical_columns]=encoder.transform(df_valtest[categorical_columns].fillna('NaN'))"
   ]
  },
  {
   "cell_type": "markdown",
   "metadata": {},
   "source": [
    "After the ordinal encoding, the main features of interest are converted as below.\n",
    "- sex: Male (1), Female (0)\n",
    "- target: >50K (1), <=50K (0)\n",
    "\n",
    "You can see the full mapping in `encoder.categories_`."
   ]
  },
  {
   "cell_type": "code",
   "execution_count": 9,
   "metadata": {
    "tags": []
   },
   "outputs": [],
   "source": [
    "from sklearn.model_selection import train_test_split\n",
    "df_val, df_test = train_test_split(df_valtest, test_size=0.9, random_state=42, \n",
    "                                   shuffle=True, stratify=df_valtest['target'])"
   ]
  },
  {
   "cell_type": "code",
   "execution_count": 10,
   "metadata": {
    "tags": []
   },
   "outputs": [
    {
     "data": {
      "text/plain": [
       "((32561, 14), (16281, 14), (1628, 14), (14653, 14))"
      ]
     },
     "execution_count": 10,
     "metadata": {},
     "output_type": "execute_result"
    }
   ],
   "source": [
    "df.shape, df_valtest.shape, df_val.shape, df_test.shape"
   ]
  },
  {
   "cell_type": "code",
   "execution_count": 12,
   "metadata": {
    "tags": []
   },
   "outputs": [
    {
     "data": {
      "image/png": "[encoded data removed]",
      "text/plain": [
       "<Figure size 640x480 with 1 Axes>"
      ]
     },
     "metadata": {},
     "output_type": "display_data"
    }
   ],
   "source": [
    "df['sex'].value_counts(sort=False).plot(kind='bar', title='Total count by sex', rot=0)\n",
    "plt.xlabel('Sex (0: Female, 1: Male)')\n",
    "plt.show()"
   ]
  },
  {
   "cell_type": "code",
   "execution_count": 13,
   "metadata": {
    "tags": []
   },
   "outputs": [
    {
     "data": {
      "image/png": "[encoded data removed]",
      "text/plain": [
       "<Figure size 640x480 with 1 Axes>"
      ]
     },
     "metadata": {},
     "output_type": "display_data"
    }
   ],
   "source": [
    "df['target'].value_counts(sort=False).plot(kind='bar', title='Target distribution', rot=0)\n",
    "plt.xlabel('target (0: <=50K, 1: >50K)')\n",
    "plt.show()"
   ]
  },
  {
   "cell_type": "code",
   "execution_count": 14,
   "metadata": {
    "tags": []
   },
   "outputs": [
    {
     "data": {
      "image/png": "[encoded data removed]",
      "text/plain": [
       "<Figure size 640x480 with 1 Axes>"
      ]
     },
     "metadata": {},
     "output_type": "display_data"
    }
   ],
   "source": [
    "df[df['target']==1]['sex'].value_counts(sort=False).plot(\n",
    "            kind='bar', title='Earning >$50K by sex', rot=0)\n",
    "plt.xlabel('Sex (0: Female, 1: Male)')\n",
    "plt.show()"
   ]
  },
  {
   "cell_type": "code",
   "execution_count": 15,
   "metadata": {
    "tags": []
   },
   "outputs": [],
   "source": [
    "os.makedirs('adult', exist_ok=True)\n",
    "df.to_csv('adult/adult-data-train.csv', index=False, header=False)\n",
    "df_val.to_csv('adult/adult-data-val.csv', index=False, header=False)\n",
    "\n",
    "train_s3_uri = S3Uploader.upload('adult/adult-data-train.csv', \n",
    "                              f's3://{bucket}/{prefix}/adult-data')\n",
    "val_s3_uri = S3Uploader.upload('adult/adult-data-val.csv', \n",
    "                            f's3://{bucket}/{prefix}/adult-data')"
   ]
  },
  {
   "cell_type": "code",
   "execution_count": 16,
   "metadata": {
    "tags": []
   },
   "outputs": [
    {
     "name": "stderr",
     "output_type": "stream",
     "text": [
      "INFO:sagemaker.image_uris:Defaulting to the only supported framework/algorithm version: 1.0.\n",
      "INFO:sagemaker.image_uris:Ignoring unnecessary instance type: None.\n"
     ]
    }
   ],
   "source": [
    "from sagemaker import clarify\n",
    "\n",
    "clarify_processor = clarify.SageMakerClarifyProcessor(\n",
    "                                    role=role, \n",
    "                                    instance_count=1, \n",
    "                                    instance_type='ml.m5.xlarge', \n",
    "                                    sagemaker_session=sess)"
   ]
  },
  {
   "cell_type": "code",
   "execution_count": 26,
   "metadata": {
    "tags": []
   },
   "outputs": [],
   "source": [
    "# clean up previous experiments\n",
    "\n",
    "from smexperiments.experiment import Experiment\n",
    "from smexperiments import experiment"
   ]
  },
  {
   "cell_type": "code",
   "execution_count": 37,
   "metadata": {
    "collapsed": true,
    "jupyter": {
     "outputs_hidden": true
    },
    "tags": []
   },
   "outputs": [
    {
     "ename": "ResourceNotFound",
     "evalue": "An error occurred (ResourceNotFound) when calling the DescribeExperiment operation: Experiment 'arn:aws:sagemaker:us-east-1:075912829265:experiment/sagemaker-scikit-learn-2023-02-06-08-39-53-088-aws-processing-job' does not exist.",
     "output_type": "error",
     "traceback": [
      "\u001b[0;31m---------------------------------------------------------------------------\u001b[0m",
      "\u001b[0;31mResourceNotFound\u001b[0m                          Traceback (most recent call last)",
      "\u001b[0;32m<ipython-input-37-59c43b95201d>\u001b[0m in \u001b[0;36m<module>\u001b[0;34m\u001b[0m\n\u001b[1;32m      5\u001b[0m \u001b[0;31m# exp._delete_all(action=\"--force\")\u001b[0m\u001b[0;34m\u001b[0m\u001b[0;34m\u001b[0m\u001b[0;34m\u001b[0m\u001b[0m\n\u001b[1;32m      6\u001b[0m \u001b[0;34m\u001b[0m\u001b[0m\n\u001b[0;32m----> 7\u001b[0;31m \u001b[0mexp\u001b[0m \u001b[0;34m=\u001b[0m \u001b[0mExperiment\u001b[0m\u001b[0;34m.\u001b[0m\u001b[0mload\u001b[0m\u001b[0;34m(\u001b[0m\u001b[0mexperiment_name\u001b[0m\u001b[0;34m=\u001b[0m\u001b[0;34m'sagemaker-scikit-learn-2023-02-06-08-39-53-088-aws-processing-job'\u001b[0m\u001b[0;34m)\u001b[0m\u001b[0;34m\u001b[0m\u001b[0;34m\u001b[0m\u001b[0m\n\u001b[0m\u001b[1;32m      8\u001b[0m \u001b[0mexp\u001b[0m\u001b[0;34m.\u001b[0m\u001b[0mdelete_all\u001b[0m\u001b[0;34m(\u001b[0m\u001b[0maction\u001b[0m\u001b[0;34m=\u001b[0m\u001b[0;34m\"--force\"\u001b[0m\u001b[0;34m)\u001b[0m\u001b[0;34m\u001b[0m\u001b[0;34m\u001b[0m\u001b[0m\n",
      "\u001b[0;32m/opt/conda/lib/python3.7/site-packages/smexperiments/experiment.py\u001b[0m in \u001b[0;36mload\u001b[0;34m(cls, experiment_name, sagemaker_boto_client)\u001b[0m\n\u001b[1;32m     95\u001b[0m             \u001b[0mcls\u001b[0m\u001b[0;34m.\u001b[0m\u001b[0m_boto_load_method\u001b[0m\u001b[0;34m,\u001b[0m\u001b[0;34m\u001b[0m\u001b[0;34m\u001b[0m\u001b[0m\n\u001b[1;32m     96\u001b[0m             \u001b[0mexperiment_name\u001b[0m\u001b[0;34m=\u001b[0m\u001b[0mexperiment_name\u001b[0m\u001b[0;34m,\u001b[0m\u001b[0;34m\u001b[0m\u001b[0;34m\u001b[0m\u001b[0m\n\u001b[0;32m---> 97\u001b[0;31m             \u001b[0msagemaker_boto_client\u001b[0m\u001b[0;34m=\u001b[0m\u001b[0msagemaker_boto_client\u001b[0m\u001b[0;34m,\u001b[0m\u001b[0;34m\u001b[0m\u001b[0;34m\u001b[0m\u001b[0m\n\u001b[0m\u001b[1;32m     98\u001b[0m         )\n\u001b[1;32m     99\u001b[0m \u001b[0;34m\u001b[0m\u001b[0m\n",
      "\u001b[0;32m/opt/conda/lib/python3.7/site-packages/smexperiments/_base_types.py\u001b[0m in \u001b[0;36m_construct\u001b[0;34m(cls, boto_method_name, sagemaker_boto_client, **kwargs)\u001b[0m\n\u001b[1;32m    166\u001b[0m         \u001b[0msagemaker_boto_client\u001b[0m \u001b[0;34m=\u001b[0m \u001b[0msagemaker_boto_client\u001b[0m \u001b[0;32mor\u001b[0m \u001b[0m_utils\u001b[0m\u001b[0;34m.\u001b[0m\u001b[0msagemaker_client\u001b[0m\u001b[0;34m(\u001b[0m\u001b[0;34m)\u001b[0m\u001b[0;34m\u001b[0m\u001b[0;34m\u001b[0m\u001b[0m\n\u001b[1;32m    167\u001b[0m         \u001b[0minstance\u001b[0m \u001b[0;34m=\u001b[0m \u001b[0mcls\u001b[0m\u001b[0;34m(\u001b[0m\u001b[0msagemaker_boto_client\u001b[0m\u001b[0;34m,\u001b[0m \u001b[0;34m**\u001b[0m\u001b[0mkwargs\u001b[0m\u001b[0;34m)\u001b[0m\u001b[0;34m\u001b[0m\u001b[0;34m\u001b[0m\u001b[0m\n\u001b[0;32m--> 168\u001b[0;31m         \u001b[0;32mreturn\u001b[0m \u001b[0minstance\u001b[0m\u001b[0;34m.\u001b[0m\u001b[0m_invoke_api\u001b[0m\u001b[0;34m(\u001b[0m\u001b[0mboto_method_name\u001b[0m\u001b[0;34m,\u001b[0m \u001b[0mkwargs\u001b[0m\u001b[0;34m)\u001b[0m\u001b[0;34m\u001b[0m\u001b[0;34m\u001b[0m\u001b[0m\n\u001b[0m\u001b[1;32m    169\u001b[0m \u001b[0;34m\u001b[0m\u001b[0m\n\u001b[1;32m    170\u001b[0m     \u001b[0;32mdef\u001b[0m \u001b[0mwith_boto\u001b[0m\u001b[0;34m(\u001b[0m\u001b[0mself\u001b[0m\u001b[0;34m,\u001b[0m \u001b[0mboto_dict\u001b[0m\u001b[0;34m)\u001b[0m\u001b[0;34m:\u001b[0m\u001b[0;34m\u001b[0m\u001b[0;34m\u001b[0m\u001b[0m\n",
      "\u001b[0;32m/opt/conda/lib/python3.7/site-packages/smexperiments/_base_types.py\u001b[0m in \u001b[0;36m_invoke_api\u001b[0;34m(self, boto_method, boto_method_members)\u001b[0m\n\u001b[1;32m    184\u001b[0m         \u001b[0mapi_kwargs\u001b[0m \u001b[0;34m=\u001b[0m \u001b[0mself\u001b[0m\u001b[0;34m.\u001b[0m\u001b[0mto_boto\u001b[0m\u001b[0;34m(\u001b[0m\u001b[0mapi_values\u001b[0m\u001b[0;34m)\u001b[0m\u001b[0;34m\u001b[0m\u001b[0;34m\u001b[0m\u001b[0m\n\u001b[1;32m    185\u001b[0m         \u001b[0mapi_method\u001b[0m \u001b[0;34m=\u001b[0m \u001b[0mgetattr\u001b[0m\u001b[0;34m(\u001b[0m\u001b[0mself\u001b[0m\u001b[0;34m.\u001b[0m\u001b[0msagemaker_boto_client\u001b[0m\u001b[0;34m,\u001b[0m \u001b[0mboto_method\u001b[0m\u001b[0;34m)\u001b[0m\u001b[0;34m\u001b[0m\u001b[0;34m\u001b[0m\u001b[0m\n\u001b[0;32m--> 186\u001b[0;31m         \u001b[0mapi_boto_response\u001b[0m \u001b[0;34m=\u001b[0m \u001b[0mapi_method\u001b[0m\u001b[0;34m(\u001b[0m\u001b[0;34m**\u001b[0m\u001b[0mapi_kwargs\u001b[0m\u001b[0;34m)\u001b[0m\u001b[0;34m\u001b[0m\u001b[0;34m\u001b[0m\u001b[0m\n\u001b[0m\u001b[1;32m    187\u001b[0m         \u001b[0;32mreturn\u001b[0m \u001b[0mself\u001b[0m\u001b[0;34m.\u001b[0m\u001b[0mwith_boto\u001b[0m\u001b[0;34m(\u001b[0m\u001b[0mapi_boto_response\u001b[0m\u001b[0;34m)\u001b[0m\u001b[0;34m\u001b[0m\u001b[0;34m\u001b[0m\u001b[0m\n",
      "\u001b[0;32m/opt/conda/lib/python3.7/site-packages/botocore/client.py\u001b[0m in \u001b[0;36m_api_call\u001b[0;34m(self, *args, **kwargs)\u001b[0m\n\u001b[1;32m    528\u001b[0m                 )\n\u001b[1;32m    529\u001b[0m             \u001b[0;31m# The \"self\" in this scope is referring to the BaseClient.\u001b[0m\u001b[0;34m\u001b[0m\u001b[0;34m\u001b[0m\u001b[0;34m\u001b[0m\u001b[0m\n\u001b[0;32m--> 530\u001b[0;31m             \u001b[0;32mreturn\u001b[0m \u001b[0mself\u001b[0m\u001b[0;34m.\u001b[0m\u001b[0m_make_api_call\u001b[0m\u001b[0;34m(\u001b[0m\u001b[0moperation_name\u001b[0m\u001b[0;34m,\u001b[0m \u001b[0mkwargs\u001b[0m\u001b[0;34m)\u001b[0m\u001b[0;34m\u001b[0m\u001b[0;34m\u001b[0m\u001b[0m\n\u001b[0m\u001b[1;32m    531\u001b[0m \u001b[0;34m\u001b[0m\u001b[0m\n\u001b[1;32m    532\u001b[0m         \u001b[0m_api_call\u001b[0m\u001b[0;34m.\u001b[0m\u001b[0m__name__\u001b[0m \u001b[0;34m=\u001b[0m \u001b[0mstr\u001b[0m\u001b[0;34m(\u001b[0m\u001b[0mpy_operation_name\u001b[0m\u001b[0;34m)\u001b[0m\u001b[0;34m\u001b[0m\u001b[0;34m\u001b[0m\u001b[0m\n",
      "\u001b[0;32m/opt/conda/lib/python3.7/site-packages/botocore/client.py\u001b[0m in \u001b[0;36m_make_api_call\u001b[0;34m(self, operation_name, api_params)\u001b[0m\n\u001b[1;32m    958\u001b[0m             \u001b[0merror_code\u001b[0m \u001b[0;34m=\u001b[0m \u001b[0mparsed_response\u001b[0m\u001b[0;34m.\u001b[0m\u001b[0mget\u001b[0m\u001b[0;34m(\u001b[0m\u001b[0;34m\"Error\"\u001b[0m\u001b[0;34m,\u001b[0m \u001b[0;34m{\u001b[0m\u001b[0;34m}\u001b[0m\u001b[0;34m)\u001b[0m\u001b[0;34m.\u001b[0m\u001b[0mget\u001b[0m\u001b[0;34m(\u001b[0m\u001b[0;34m\"Code\"\u001b[0m\u001b[0;34m)\u001b[0m\u001b[0;34m\u001b[0m\u001b[0;34m\u001b[0m\u001b[0m\n\u001b[1;32m    959\u001b[0m             \u001b[0merror_class\u001b[0m \u001b[0;34m=\u001b[0m \u001b[0mself\u001b[0m\u001b[0;34m.\u001b[0m\u001b[0mexceptions\u001b[0m\u001b[0;34m.\u001b[0m\u001b[0mfrom_code\u001b[0m\u001b[0;34m(\u001b[0m\u001b[0merror_code\u001b[0m\u001b[0;34m)\u001b[0m\u001b[0;34m\u001b[0m\u001b[0;34m\u001b[0m\u001b[0m\n\u001b[0;32m--> 960\u001b[0;31m             \u001b[0;32mraise\u001b[0m \u001b[0merror_class\u001b[0m\u001b[0;34m(\u001b[0m\u001b[0mparsed_response\u001b[0m\u001b[0;34m,\u001b[0m \u001b[0moperation_name\u001b[0m\u001b[0;34m)\u001b[0m\u001b[0;34m\u001b[0m\u001b[0;34m\u001b[0m\u001b[0m\n\u001b[0m\u001b[1;32m    961\u001b[0m         \u001b[0;32melse\u001b[0m\u001b[0;34m:\u001b[0m\u001b[0;34m\u001b[0m\u001b[0;34m\u001b[0m\u001b[0m\n\u001b[1;32m    962\u001b[0m             \u001b[0;32mreturn\u001b[0m \u001b[0mparsed_response\u001b[0m\u001b[0;34m\u001b[0m\u001b[0;34m\u001b[0m\u001b[0m\n",
      "\u001b[0;31mResourceNotFound\u001b[0m: An error occurred (ResourceNotFound) when calling the DescribeExperiment operation: Experiment 'arn:aws:sagemaker:us-east-1:075912829265:experiment/sagemaker-scikit-learn-2023-02-06-08-39-53-088-aws-processing-job' does not exist."
     ]
    }
   ],
   "source": [
    "# clean up previous experiments\n",
    "\n",
    "# from sagemaker.experiments.experiment import _Experiment\n",
    "# exp = Experiment.load(experiment_name='abalone-age-prediction', sagemaker_session=sess)\n",
    "# exp._delete_all(action=\"--force\")\n",
    "\n",
    "exp = Experiment.load(experiment_name='sagemaker-scikit-learn-2023-02-06-08-39-53-088-aws-processing-job')\n",
    "exp.delete_all(action=\"--force\")"
   ]
  },
  {
   "cell_type": "code",
   "execution_count": 36,
   "metadata": {
    "tags": []
   },
   "outputs": [],
   "source": [
    "# clean up previous experiments\n",
    "\n",
    "for exp in experiment.Experiment.list():\n",
    "\n",
    "    exp = Experiment.load(experiment_name = exp.experiment_name)\n",
    "    exp.delete_all(action=\"--force\")"
   ]
  },
  {
   "cell_type": "code",
   "execution_count": 38,
   "metadata": {
    "tags": []
   },
   "outputs": [],
   "source": [
    "experiment_name = 'adult-income-clarify'\n",
    "\n",
    "try:\n",
    "    experiment = Experiment.create(\n",
    "        experiment_name=experiment_name, \n",
    "        description='Analyzing ML bias in adult income dataset using SageMaker Clarify.')\n",
    "except ClientError as e:\n",
    "    print(f'{experiment_name} experiment already exists! Reusing the existing experiment.')"
   ]
  },
  {
   "cell_type": "markdown",
   "metadata": {},
   "source": [
    "## Pre-training bias analysis"
   ]
  },
  {
   "cell_type": "code",
   "execution_count": 39,
   "metadata": {
    "tags": []
   },
   "outputs": [],
   "source": [
    "# Creating a new trial for the experiment\n",
    "exp_datetime_1 = strftime('%Y-%m-%d-%H-%M-%S', gmtime())\n",
    "\n",
    "exp_trial_1 = Trial.create(experiment_name=experiment_name, \n",
    "                           trial_name=exp_datetime_1)\n",
    "\n",
    "experiment_config={'ExperimentName': experiment_name,\n",
    "                   'TrialName': exp_trial_1.trial_name,\n",
    "                   'TrialComponentDisplayName': 'Pretraining-BiasAnalysis'}"
   ]
  },
  {
   "cell_type": "code",
   "execution_count": 40,
   "metadata": {
    "tags": []
   },
   "outputs": [],
   "source": [
    "pretraining_bias_report_output_path = f's3://{bucket}/{prefix}/{experiment_name}-{exp_trial_1.trial_name}/clarify-pretraining-bias'\n",
    "\n",
    "bias_data_config = clarify.DataConfig(\n",
    "    s3_data_input_path=train_s3_uri,\n",
    "    s3_output_path=pretraining_bias_report_output_path,\n",
    "    label='target',\n",
    "    headers=df.columns.tolist(),\n",
    "    dataset_type='text/csv',\n",
    ")"
   ]
  },
  {
   "cell_type": "code",
   "execution_count": 41,
   "metadata": {
    "tags": []
   },
   "outputs": [],
   "source": [
    "bias_config = clarify.BiasConfig(\n",
    "    label_values_or_threshold=[1], \n",
    "    facet_name=['sex', 'race'], \n",
    "    facet_values_or_threshold=[[0], None])"
   ]
  },
  {
   "cell_type": "code",
   "execution_count": 42,
   "metadata": {
    "tags": []
   },
   "outputs": [
    {
     "name": "stderr",
     "output_type": "stream",
     "text": [
      "INFO:sagemaker.clarify:Analysis Config: {'dataset_type': 'text/csv', 'headers': ['target', 'age', 'workclass', 'fnlwgt', 'education-num', 'marital-status', 'occupation', 'relationship', 'race', 'sex', 'capital-gain', 'capital-loss', 'hours-per-week', 'native-country'], 'label': 'target', 'label_values_or_threshold': [1], 'facet': [{'name_or_index': 'sex', 'value_or_threshold': [0]}, {'name_or_index': 'race'}], 'methods': {'report': {'name': 'report', 'title': 'Analysis Report'}, 'pre_training_bias': {'methods': 'all'}}}\n",
      "INFO:sagemaker:Creating processing-job with name adult-clarify-pretraining-bias-2023-02-08-12-22-30\n"
     ]
    },
    {
     "name": "stdout",
     "output_type": "stream",
     "text": [
      "\n",
      "Job Name:  adult-clarify-pretraining-bias-2023-02-08-12-22-30\n",
      "Inputs:  [{'InputName': 'dataset', 'AppManaged': False, 'S3Input': {'S3Uri': 's3://sagemaker-studio-075912829265-fl4eu3b4xp5/sagemaker-studio-book/chapter06/adult-data/adult-data-train.csv', 'LocalPath': '/opt/ml/processing/input/data', 'S3DataType': 'S3Prefix', 'S3InputMode': 'File', 'S3DataDistributionType': 'FullyReplicated', 'S3CompressionType': 'None'}}, {'InputName': 'analysis_config', 'AppManaged': False, 'S3Input': {'S3Uri': 's3://sagemaker-studio-075912829265-fl4eu3b4xp5/sagemaker-studio-book/chapter06/adult-income-clarify-2023-02-08-12-22-30/clarify-pretraining-bias/analysis_config.json', 'LocalPath': '/opt/ml/processing/input/config', 'S3DataType': 'S3Prefix', 'S3InputMode': 'File', 'S3DataDistributionType': 'FullyReplicated', 'S3CompressionType': 'None'}}]\n",
      "Outputs:  [{'OutputName': 'analysis_result', 'AppManaged': False, 'S3Output': {'S3Uri': 's3://sagemaker-studio-075912829265-fl4eu3b4xp5/sagemaker-studio-book/chapter06/adult-income-clarify-2023-02-08-12-22-30/clarify-pretraining-bias', 'LocalPath': '/opt/ml/processing/output', 'S3UploadMode': 'EndOfJob'}}]\n"
     ]
    }
   ],
   "source": [
    "jobname = f'adult-clarify-pretraining-bias-{exp_datetime_1}'\n",
    "\n",
    "clarify_processor.run_pre_training_bias(\n",
    "    data_config=bias_data_config,\n",
    "    data_bias_config=bias_config,\n",
    "    methods='all',\n",
    "    job_name=jobname,\n",
    "    experiment_config=experiment_config,\n",
    "    wait=False,\n",
    "    logs=False)"
   ]
  },
  {
   "cell_type": "markdown",
   "metadata": {},
   "source": [
    "## Mitigating bias"
   ]
  },
  {
   "cell_type": "code",
   "execution_count": 43,
   "metadata": {
    "tags": []
   },
   "outputs": [],
   "source": [
    "max_female_sample=df.groupby(['sex', 'target'], \n",
    "                             group_keys=False).count().loc[(0, 1)]['age']"
   ]
  },
  {
   "cell_type": "code",
   "execution_count": 44,
   "metadata": {
    "tags": []
   },
   "outputs": [],
   "source": [
    "df_sampled=df.groupby(['sex', 'target'], \n",
    "                      group_keys=False).apply(lambda x: x.sample(max_female_sample))"
   ]
  },
  {
   "cell_type": "code",
   "execution_count": 45,
   "metadata": {
    "tags": []
   },
   "outputs": [
    {
     "data": {
      "text/plain": [
       "(4716, 14)"
      ]
     },
     "execution_count": 45,
     "metadata": {},
     "output_type": "execute_result"
    }
   ],
   "source": [
    "df_sampled.shape"
   ]
  },
  {
   "cell_type": "code",
   "execution_count": 47,
   "metadata": {
    "tags": []
   },
   "outputs": [
    {
     "data": {
      "image/png": "[encoded data removed]",
      "text/plain": [
       "<Figure size 640x480 with 1 Axes>"
      ]
     },
     "metadata": {},
     "output_type": "display_data"
    }
   ],
   "source": [
    "df_sampled['sex'].value_counts().sort_values().plot(kind='bar', \n",
    "                                                    title='Total count by sex', \n",
    "                                                    rot=0)\n",
    "plt.show()"
   ]
  },
  {
   "cell_type": "code",
   "execution_count": 48,
   "metadata": {
    "tags": []
   },
   "outputs": [
    {
     "data": {
      "image/png": "[encoded data removed]",
      "text/plain": [
       "<Figure size 640x480 with 1 Axes>"
      ]
     },
     "metadata": {},
     "output_type": "display_data"
    }
   ],
   "source": [
    "df_sampled['sex'].where(df_sampled['target'] == 1).value_counts().sort_values().plot(\n",
    "    kind='bar', title='Earning >$50K by sex', rot=0)\n",
    "plt.show()"
   ]
  },
  {
   "cell_type": "code",
   "execution_count": 49,
   "metadata": {
    "tags": []
   },
   "outputs": [],
   "source": [
    "df_sampled.to_csv('adult/adult-data-train-sampled.csv', index=False, header=False)\n",
    "train_sampled_s3_uri = S3Uploader.upload('adult/adult-data-train-sampled.csv', \n",
    "                                      f's3://{bucket}/{prefix}/adult-data')"
   ]
  },
  {
   "cell_type": "markdown",
   "metadata": {},
   "source": [
    "### Rerun the pre-training bias analysis to confirm"
   ]
  },
  {
   "cell_type": "code",
   "execution_count": 50,
   "metadata": {
    "tags": []
   },
   "outputs": [
    {
     "name": "stderr",
     "output_type": "stream",
     "text": [
      "INFO:sagemaker.clarify:Analysis Config: {'dataset_type': 'text/csv', 'headers': ['target', 'age', 'workclass', 'fnlwgt', 'education-num', 'marital-status', 'occupation', 'relationship', 'race', 'sex', 'capital-gain', 'capital-loss', 'hours-per-week', 'native-country'], 'label': 'target', 'label_values_or_threshold': [1], 'facet': [{'name_or_index': 'sex', 'value_or_threshold': [0]}, {'name_or_index': 'race'}], 'methods': {'report': {'name': 'report', 'title': 'Analysis Report'}, 'pre_training_bias': {'methods': 'all'}}}\n",
      "INFO:sagemaker:Creating processing-job with name adult-sampled-clarify-pretraining-bias-2023-02-08-12-31-34\n"
     ]
    },
    {
     "name": "stdout",
     "output_type": "stream",
     "text": [
      "\n",
      "Job Name:  adult-sampled-clarify-pretraining-bias-2023-02-08-12-31-34\n",
      "Inputs:  [{'InputName': 'dataset', 'AppManaged': False, 'S3Input': {'S3Uri': 's3://sagemaker-studio-075912829265-fl4eu3b4xp5/sagemaker-studio-book/chapter06/adult-data/adult-data-train-sampled.csv', 'LocalPath': '/opt/ml/processing/input/data', 'S3DataType': 'S3Prefix', 'S3InputMode': 'File', 'S3DataDistributionType': 'FullyReplicated', 'S3CompressionType': 'None'}}, {'InputName': 'analysis_config', 'AppManaged': False, 'S3Input': {'S3Uri': 's3://sagemaker-studio-075912829265-fl4eu3b4xp5/sagemaker-studio-book/chapter06/adult-income-clarify-2023-02-08-12-31-34/clarify-pretraining-bias/analysis_config.json', 'LocalPath': '/opt/ml/processing/input/config', 'S3DataType': 'S3Prefix', 'S3InputMode': 'File', 'S3DataDistributionType': 'FullyReplicated', 'S3CompressionType': 'None'}}]\n",
      "Outputs:  [{'OutputName': 'analysis_result', 'AppManaged': False, 'S3Output': {'S3Uri': 's3://sagemaker-studio-075912829265-fl4eu3b4xp5/sagemaker-studio-book/chapter06/adult-income-clarify-2023-02-08-12-31-34/clarify-pretraining-bias', 'LocalPath': '/opt/ml/processing/output', 'S3UploadMode': 'EndOfJob'}}]\n"
     ]
    }
   ],
   "source": [
    "exp_datetime_2 = strftime('%Y-%m-%d-%H-%M-%S', gmtime())\n",
    "\n",
    "# Creating a new trial as we are working on a new dataset\n",
    "exp_trial_2 = Trial.create(experiment_name=experiment_name, \n",
    "                         trial_name=exp_datetime_2)\n",
    "\n",
    "experiment_config={'ExperimentName': experiment_name,\n",
    "                   'TrialName': exp_trial_2.trial_name,\n",
    "                   'TrialComponentDisplayName': 'Pretraining-BiasAnalysis'}\n",
    "\n",
    "pretraining_bias_report_output_path = f's3://{bucket}/{prefix}/{experiment_name}-{exp_trial_2.trial_name}/clarify-pretraining-bias'\n",
    "\n",
    "bias_data_config = clarify.DataConfig(\n",
    "    s3_data_input_path=train_sampled_s3_uri,\n",
    "    s3_output_path=pretraining_bias_report_output_path,\n",
    "    label='target',\n",
    "    headers=df_sampled.columns.tolist(),\n",
    "    dataset_type='text/csv')\n",
    "\n",
    "bias_config = clarify.BiasConfig(\n",
    "    label_values_or_threshold=[1], \n",
    "    facet_name=['sex', 'race'], \n",
    "    facet_values_or_threshold=[[0], None])\n",
    "\n",
    "jobname = f'adult-sampled-clarify-pretraining-bias-{exp_datetime_2}'\n",
    "\n",
    "clarify_processor.run_pre_training_bias(\n",
    "    data_config=bias_data_config,\n",
    "    data_bias_config=bias_config,\n",
    "    methods='all',\n",
    "    job_name=jobname,\n",
    "    experiment_config=experiment_config,\n",
    "    wait=False,\n",
    "    logs=False)"
   ]
  },
  {
   "cell_type": "markdown",
   "metadata": {},
   "source": [
    "## Training a ML model using XGBoost"
   ]
  },
  {
   "cell_type": "code",
   "execution_count": 51,
   "metadata": {
    "scrolled": true,
    "tags": []
   },
   "outputs": [
    {
     "name": "stderr",
     "output_type": "stream",
     "text": [
      "INFO:sagemaker.image_uris:Ignoring unnecessary instance type: None.\n",
      "INFO:sagemaker.image_uris:Defaulting to the only supported framework/algorithm version: latest.\n",
      "INFO:sagemaker.image_uris:Ignoring unnecessary instance type: None.\n",
      "INFO:sagemaker:Creating training-job with name: adult-xgb-2023-02-08-12-32-04\n"
     ]
    },
    {
     "name": "stdout",
     "output_type": "stream",
     "text": [
      "2023-02-08 12:32:04 Starting - Starting the training job...\n",
      "2023-02-08 12:32:28 Starting - Preparing the instances for trainingProfilerReport-1675859524: InProgress\n",
      "......\n",
      "2023-02-08 12:33:29 Downloading - Downloading input data...\n",
      "2023-02-08 12:34:02 Training - Training image download completed. Training in progress...\u001b[34m[2023-02-08 12:34:12.864 ip-10-2-83-82.ec2.internal:7 INFO utils.py:27] RULE_JOB_STOP_SIGNAL_FILENAME: None\u001b[0m\n",
      "\u001b[34m[2023-02-08:12:34:12:INFO] Imported framework sagemaker_xgboost_container.training\u001b[0m\n",
      "\u001b[34m[2023-02-08:12:34:12:INFO] Failed to parse hyperparameter eval_metric value error to Json.\u001b[0m\n",
      "\u001b[34mReturning the value itself\u001b[0m\n",
      "\u001b[34m[2023-02-08:12:34:12:INFO] Failed to parse hyperparameter objective value binary:logistic to Json.\u001b[0m\n",
      "\u001b[34mReturning the value itself\u001b[0m\n",
      "\u001b[34m[2023-02-08:12:34:12:INFO] No GPUs detected (normal if no gpus installed)\u001b[0m\n",
      "\u001b[34m[2023-02-08:12:34:12:INFO] Running XGBoost Sagemaker in algorithm mode\u001b[0m\n",
      "\u001b[34m[2023-02-08:12:34:12:INFO] Determined delimiter of CSV input is ','\u001b[0m\n",
      "\u001b[34m[2023-02-08:12:34:12:INFO] Determined delimiter of CSV input is ','\u001b[0m\n",
      "\u001b[34m[2023-02-08:12:34:12:INFO] files path: /opt/ml/input/data/train\u001b[0m\n",
      "\u001b[34m[2023-02-08:12:34:12:INFO] Determined delimiter of CSV input is ','\u001b[0m\n",
      "\u001b[34m[2023-02-08:12:34:12:INFO] files path: /opt/ml/input/data/validation\u001b[0m\n",
      "\u001b[34m[2023-02-08:12:34:12:INFO] Determined delimiter of CSV input is ','\u001b[0m\n",
      "\u001b[34m[2023-02-08:12:34:12:INFO] Single node training.\u001b[0m\n",
      "\u001b[34m[2023-02-08:12:34:12:INFO] Train matrix has 4716 rows and 13 columns\u001b[0m\n",
      "\u001b[34m[2023-02-08:12:34:12:INFO] Validation matrix has 1628 rows\u001b[0m\n",
      "\u001b[34m[2023-02-08 12:34:12.941 ip-10-2-83-82.ec2.internal:7 INFO json_config.py:91] Creating hook from json_config at /opt/ml/input/config/debughookconfig.json.\u001b[0m\n",
      "\u001b[34m[0]#011train-error:0.18808#011validation-error:0.23649\u001b[0m\n",
      "\u001b[34m[1]#011train-error:0.17451#011validation-error:0.21315\u001b[0m\n",
      "\u001b[34m[2]#011train-error:0.17218#011validation-error:0.17506\u001b[0m\n",
      "\u001b[34m[3]#011train-error:0.16667#011validation-error:0.20946\u001b[0m\n",
      "\u001b[34m[4]#011train-error:0.16539#011validation-error:0.20516\u001b[0m\n",
      "\u001b[34m[5]#011train-error:0.16285#011validation-error:0.18489\u001b[0m\n",
      "\u001b[34m[6]#011train-error:0.16221#011validation-error:0.20516\u001b[0m\n",
      "\u001b[34m[7]#011train-error:0.15649#011validation-error:0.18612\u001b[0m\n",
      "\u001b[34m[8]#011train-error:0.15267#011validation-error:0.18857\u001b[0m\n",
      "\u001b[34m[9]#011train-error:0.15373#011validation-error:0.18366\u001b[0m\n",
      "\u001b[34m[10]#011train-error:0.14737#011validation-error:0.18305\u001b[0m\n",
      "\u001b[34m[11]#011train-error:0.14461#011validation-error:0.18182\u001b[0m\n",
      "\u001b[34m[12]#011train-error:0.14186#011validation-error:0.18120\u001b[0m\n",
      "\u001b[34m[13]#011train-error:0.14186#011validation-error:0.18120\u001b[0m\n",
      "\u001b[34m[14]#011train-error:0.13740#011validation-error:0.18305\u001b[0m\n",
      "\u001b[34m[15]#011train-error:0.13656#011validation-error:0.17997\u001b[0m\n",
      "\u001b[34m[16]#011train-error:0.13316#011validation-error:0.18120\u001b[0m\n",
      "\u001b[34m[17]#011train-error:0.13062#011validation-error:0.17875\u001b[0m\n",
      "\u001b[34m[18]#011train-error:0.12935#011validation-error:0.18120\u001b[0m\n",
      "\u001b[34m[19]#011train-error:0.12680#011validation-error:0.17690\u001b[0m\n",
      "\u001b[34m[20]#011train-error:0.12553#011validation-error:0.17506\u001b[0m\n",
      "\u001b[34m[21]#011train-error:0.12701#011validation-error:0.17322\u001b[0m\n",
      "\u001b[34m[22]#011train-error:0.12362#011validation-error:0.17383\u001b[0m\n",
      "\u001b[34m[23]#011train-error:0.11938#011validation-error:0.16953\u001b[0m\n",
      "\u001b[34m[24]#011train-error:0.11747#011validation-error:0.17260\u001b[0m\n",
      "\u001b[34m[25]#011train-error:0.11514#011validation-error:0.17199\u001b[0m\n",
      "\u001b[34m[26]#011train-error:0.11493#011validation-error:0.17260\u001b[0m\n",
      "\u001b[34m[27]#011train-error:0.11217#011validation-error:0.17506\u001b[0m\n",
      "\u001b[34m[28]#011train-error:0.11196#011validation-error:0.17445\u001b[0m\n",
      "\u001b[34m[29]#011train-error:0.11260#011validation-error:0.17629\u001b[0m\n",
      "\u001b[34m[30]#011train-error:0.11196#011validation-error:0.17568\u001b[0m\n",
      "\u001b[34m[31]#011train-error:0.10793#011validation-error:0.17506\u001b[0m\n",
      "\u001b[34m[32]#011train-error:0.10836#011validation-error:0.17506\u001b[0m\n",
      "\u001b[34m[33]#011train-error:0.10517#011validation-error:0.17629\u001b[0m\n",
      "\u001b[34m[34]#011train-error:0.10560#011validation-error:0.17568\u001b[0m\n",
      "\u001b[34m[35]#011train-error:0.10433#011validation-error:0.17383\u001b[0m\n",
      "\u001b[34m[36]#011train-error:0.10305#011validation-error:0.17629\u001b[0m\n",
      "\u001b[34m[37]#011train-error:0.10178#011validation-error:0.17936\u001b[0m\n",
      "\u001b[34m[38]#011train-error:0.09648#011validation-error:0.17997\u001b[0m\n",
      "\u001b[34m[39]#011train-error:0.09457#011validation-error:0.17752\u001b[0m\n",
      "\u001b[34m[40]#011train-error:0.09500#011validation-error:0.17875\u001b[0m\n",
      "\u001b[34m[41]#011train-error:0.09500#011validation-error:0.17875\u001b[0m\n",
      "\u001b[34m[42]#011train-error:0.09457#011validation-error:0.17752\u001b[0m\n",
      "\u001b[34m[43]#011train-error:0.09478#011validation-error:0.17875\u001b[0m\n",
      "\u001b[34m[44]#011train-error:0.09287#011validation-error:0.17875\u001b[0m\n",
      "\u001b[34m[45]#011train-error:0.09394#011validation-error:0.17875\u001b[0m\n",
      "\u001b[34m[46]#011train-error:0.09181#011validation-error:0.17813\u001b[0m\n",
      "\u001b[34m[47]#011train-error:0.09118#011validation-error:0.18059\u001b[0m\n",
      "\u001b[34m[48]#011train-error:0.09033#011validation-error:0.17936\u001b[0m\n",
      "\u001b[34m[49]#011train-error:0.08969#011validation-error:0.17997\u001b[0m\n",
      "\n",
      "2023-02-08 12:34:29 Uploading - Uploading generated training model\n",
      "2023-02-08 12:34:29 Completed - Training job completed\n",
      "Training seconds: 73\n",
      "Billable seconds: 73\n"
     ]
    }
   ],
   "source": [
    "exp_datetime_3 = strftime('%Y-%m-%d-%H-%M-%S', gmtime())\n",
    "jobname = f'adult-xgb-{exp_datetime_3}'\n",
    "\n",
    "experiment_config={'ExperimentName': experiment_name,\n",
    "                   'TrialName': exp_trial_2.trial_name,\n",
    "                   'TrialComponentDisplayName': 'Training'}\n",
    "\n",
    "image = image_uris.retrieve(region=region, framework='xgboost', version='1.3-1')\n",
    "\n",
    "train_s3_output = f's3://{bucket}/{prefix}/{experiment_name}-{exp_trial_2.trial_name}/training'\n",
    "\n",
    "xgb = sagemaker.estimator.Estimator(image,\n",
    "                                    role,\n",
    "                                    instance_type='ml.m5.xlarge',\n",
    "                                    instance_count=1,\n",
    "                                    output_path=train_s3_output,\n",
    "                                    enable_sagemaker_metrics=True,\n",
    "                                    sagemaker_session=sess)\n",
    "xgb.set_hyperparameters(objective='binary:logistic',\n",
    "                        eval_metric='error',\n",
    "                        num_round=50)\n",
    "\n",
    "train_input = sagemaker.inputs.TrainingInput(s3_data=train_sampled_s3_uri, \n",
    "                                             content_type='csv')\n",
    "\n",
    "val_input = sagemaker.inputs.TrainingInput(s3_data=val_s3_uri, \n",
    "                                             content_type='csv')\n",
    "\n",
    "data_channels={'train': train_input, 'validation': val_input}\n",
    "\n",
    "xgb.fit(inputs=data_channels, \n",
    "        job_name=jobname, \n",
    "        experiment_config=experiment_config, \n",
    "        wait=True)"
   ]
  },
  {
   "cell_type": "code",
   "execution_count": 52,
   "metadata": {
    "tags": []
   },
   "outputs": [
    {
     "name": "stderr",
     "output_type": "stream",
     "text": [
      "INFO:sagemaker:Creating model with name: adult-xgb-model-2023-02-08-12-32-04\n"
     ]
    },
    {
     "data": {
      "text/plain": [
       "'adult-xgb-model-2023-02-08-12-32-04'"
      ]
     },
     "execution_count": 52,
     "metadata": {},
     "output_type": "execute_result"
    }
   ],
   "source": [
    "model_name = f'adult-xgb-model-{exp_datetime_3}'\n",
    "model = xgb.create_model(name=model_name)\n",
    "\n",
    "container_def = model.prepare_container_def()\n",
    "sess.create_model(model_name, role, container_def)"
   ]
  },
  {
   "cell_type": "markdown",
   "metadata": {},
   "source": [
    "## Detecting post-training bias"
   ]
  },
  {
   "cell_type": "code",
   "execution_count": 53,
   "metadata": {
    "tags": []
   },
   "outputs": [],
   "source": [
    "experiment_config={'ExperimentName': experiment_name,\n",
    "                   'TrialName': exp_trial_2.trial_name,\n",
    "                   'TrialComponentDisplayName': 'Posttraining-BiasAnalysis'}\n",
    "\n",
    "posttraining_bias_report_output_path = f's3://{bucket}/{prefix}/{experiment_name}-{exp_trial_2.trial_name}/clarify-posttraining-bias'\n",
    "\n",
    "bias_data_config = clarify.DataConfig(\n",
    "    s3_data_input_path=train_sampled_s3_uri,\n",
    "    s3_output_path=posttraining_bias_report_output_path,\n",
    "    label='target',\n",
    "    headers=df_sampled.columns.tolist(),\n",
    "    dataset_type='text/csv')\n",
    "\n",
    "bias_config = clarify.BiasConfig(\n",
    "    label_values_or_threshold=[1], \n",
    "    facet_name=['sex', 'race'], \n",
    "    facet_values_or_threshold=[[0], None])"
   ]
  },
  {
   "cell_type": "code",
   "execution_count": 54,
   "metadata": {
    "tags": []
   },
   "outputs": [],
   "source": [
    "model_config = clarify.ModelConfig(\n",
    "    model_name=model_name,\n",
    "    instance_type='ml.m5.xlarge',\n",
    "    instance_count=1,\n",
    "    accept_type='text/csv',\n",
    "    content_type='text/csv')\n",
    "\n",
    "predictions_config = clarify.ModelPredictedLabelConfig(probability_threshold=0.5)"
   ]
  },
  {
   "cell_type": "code",
   "execution_count": 55,
   "metadata": {
    "tags": []
   },
   "outputs": [
    {
     "name": "stderr",
     "output_type": "stream",
     "text": [
      "INFO:sagemaker.clarify:Analysis Config: {'dataset_type': 'text/csv', 'headers': ['target', 'age', 'workclass', 'fnlwgt', 'education-num', 'marital-status', 'occupation', 'relationship', 'race', 'sex', 'capital-gain', 'capital-loss', 'hours-per-week', 'native-country'], 'label': 'target', 'label_values_or_threshold': [1], 'facet': [{'name_or_index': 'sex', 'value_or_threshold': [0]}, {'name_or_index': 'race'}], 'methods': {'report': {'name': 'report', 'title': 'Analysis Report'}, 'post_training_bias': {'methods': 'all'}}, 'predictor': {'model_name': 'adult-xgb-model-2023-02-08-12-32-04', 'instance_type': 'ml.m5.xlarge', 'initial_instance_count': 1, 'accept_type': 'text/csv', 'content_type': 'text/csv'}, 'probability_threshold': 0.5}\n",
      "INFO:sagemaker:Creating processing-job with name adult-sampled-clarify-posttraining-bias-2023-02-08-12-36-20\n"
     ]
    },
    {
     "name": "stdout",
     "output_type": "stream",
     "text": [
      "\n",
      "Job Name:  adult-sampled-clarify-posttraining-bias-2023-02-08-12-36-20\n",
      "Inputs:  [{'InputName': 'dataset', 'AppManaged': False, 'S3Input': {'S3Uri': 's3://sagemaker-studio-075912829265-fl4eu3b4xp5/sagemaker-studio-book/chapter06/adult-data/adult-data-train-sampled.csv', 'LocalPath': '/opt/ml/processing/input/data', 'S3DataType': 'S3Prefix', 'S3InputMode': 'File', 'S3DataDistributionType': 'FullyReplicated', 'S3CompressionType': 'None'}}, {'InputName': 'analysis_config', 'AppManaged': False, 'S3Input': {'S3Uri': 's3://sagemaker-studio-075912829265-fl4eu3b4xp5/sagemaker-studio-book/chapter06/adult-income-clarify-2023-02-08-12-31-34/clarify-posttraining-bias/analysis_config.json', 'LocalPath': '/opt/ml/processing/input/config', 'S3DataType': 'S3Prefix', 'S3InputMode': 'File', 'S3DataDistributionType': 'FullyReplicated', 'S3CompressionType': 'None'}}]\n",
      "Outputs:  [{'OutputName': 'analysis_result', 'AppManaged': False, 'S3Output': {'S3Uri': 's3://sagemaker-studio-075912829265-fl4eu3b4xp5/sagemaker-studio-book/chapter06/adult-income-clarify-2023-02-08-12-31-34/clarify-posttraining-bias', 'LocalPath': '/opt/ml/processing/output', 'S3UploadMode': 'EndOfJob'}}]\n"
     ]
    }
   ],
   "source": [
    "exp_datetime_4 = strftime('%Y-%m-%d-%H-%M-%S', gmtime())\n",
    "jobname = f'adult-sampled-clarify-posttraining-bias-{exp_datetime_4}'\n",
    "\n",
    "clarify_processor.run_post_training_bias(\n",
    "    data_config=bias_data_config,\n",
    "    data_bias_config=bias_config,\n",
    "    model_config=model_config,\n",
    "    model_predicted_label_config=predictions_config,\n",
    "    methods='all',    \n",
    "    job_name=jobname,\n",
    "    experiment_config=experiment_config,\n",
    "    wait=False,\n",
    "    logs=False)"
   ]
  },
  {
   "cell_type": "markdown",
   "metadata": {},
   "source": [
    "## Explaining ML models using SHAP values"
   ]
  },
  {
   "cell_type": "code",
   "execution_count": 56,
   "metadata": {
    "tags": []
   },
   "outputs": [],
   "source": [
    "experiment_config={'ExperimentName': experiment_name,\n",
    "                   'TrialName': exp_trial_2.trial_name,\n",
    "                   'TrialComponentDisplayName': 'Posttraining-SHAP'}\n",
    "\n",
    "explainability_output_path = f's3://{bucket}/{prefix}/{experiment_name}-{exp_trial_2.trial_name}/clarify-explainability'\n",
    "\n",
    "explainability_data_config = clarify.DataConfig(\n",
    "    s3_data_input_path=train_sampled_s3_uri,\n",
    "    s3_output_path=explainability_output_path,\n",
    "    label='target',\n",
    "    headers=df_sampled.columns.tolist(),\n",
    "    dataset_type='text/csv')\n",
    "\n",
    "model_config = clarify.ModelConfig(\n",
    "    model_name=model_name,\n",
    "    instance_type='ml.m5.xlarge',\n",
    "    instance_count=1,\n",
    "    accept_type='text/csv',\n",
    "    content_type='text/csv')\n",
    "\n",
    "baseline = df_sampled.query('target == 1').mode().iloc[0, 1:].astype(int).tolist()\n",
    "shap_config = clarify.SHAPConfig(\n",
    "    baseline=[baseline],\n",
    "    num_samples=15,\n",
    "    agg_method='mean_abs')"
   ]
  },
  {
   "cell_type": "code",
   "execution_count": 57,
   "metadata": {
    "tags": []
   },
   "outputs": [
    {
     "name": "stderr",
     "output_type": "stream",
     "text": [
      "INFO:sagemaker.clarify:Analysis Config: {'dataset_type': 'text/csv', 'headers': ['target', 'age', 'workclass', 'fnlwgt', 'education-num', 'marital-status', 'occupation', 'relationship', 'race', 'sex', 'capital-gain', 'capital-loss', 'hours-per-week', 'native-country'], 'label': 'target', 'predictor': {'model_name': 'adult-xgb-model-2023-02-08-12-32-04', 'instance_type': 'ml.m5.xlarge', 'initial_instance_count': 1, 'accept_type': 'text/csv', 'content_type': 'text/csv'}, 'methods': {'report': {'name': 'report', 'title': 'Analysis Report'}, 'shap': {'use_logit': False, 'save_local_shap_values': True, 'baseline': [[43, 4, 101345, 13, 2, 10, 0, 4, 0, 0, 0, 40, 39]], 'num_samples': 15, 'agg_method': 'mean_abs'}}}\n",
      "INFO:sagemaker:Creating processing-job with name adult-sampled-clarify-posttraining-shap-2023-02-08-12-36-36\n"
     ]
    },
    {
     "name": "stdout",
     "output_type": "stream",
     "text": [
      "\n",
      "Job Name:  adult-sampled-clarify-posttraining-shap-2023-02-08-12-36-36\n",
      "Inputs:  [{'InputName': 'dataset', 'AppManaged': False, 'S3Input': {'S3Uri': 's3://sagemaker-studio-075912829265-fl4eu3b4xp5/sagemaker-studio-book/chapter06/adult-data/adult-data-train-sampled.csv', 'LocalPath': '/opt/ml/processing/input/data', 'S3DataType': 'S3Prefix', 'S3InputMode': 'File', 'S3DataDistributionType': 'FullyReplicated', 'S3CompressionType': 'None'}}, {'InputName': 'analysis_config', 'AppManaged': False, 'S3Input': {'S3Uri': 's3://sagemaker-studio-075912829265-fl4eu3b4xp5/sagemaker-studio-book/chapter06/adult-income-clarify-2023-02-08-12-31-34/clarify-explainability/analysis_config.json', 'LocalPath': '/opt/ml/processing/input/config', 'S3DataType': 'S3Prefix', 'S3InputMode': 'File', 'S3DataDistributionType': 'FullyReplicated', 'S3CompressionType': 'None'}}]\n",
      "Outputs:  [{'OutputName': 'analysis_result', 'AppManaged': False, 'S3Output': {'S3Uri': 's3://sagemaker-studio-075912829265-fl4eu3b4xp5/sagemaker-studio-book/chapter06/adult-income-clarify-2023-02-08-12-31-34/clarify-explainability', 'LocalPath': '/opt/ml/processing/output', 'S3UploadMode': 'EndOfJob'}}]\n",
      "..............................\u001b[34m2023-02-08 12:41:27,633 logging.conf not found when configuring logging, using default logging configuration.\u001b[0m\n",
      "\u001b[34m2023-02-08 12:41:27,634 Starting SageMaker Clarify Processing job\u001b[0m\n",
      "\u001b[34m2023-02-08 12:41:27,634 Analysis config path: /opt/ml/processing/input/config/analysis_config.json\u001b[0m\n",
      "\u001b[34m2023-02-08 12:41:27,634 Analysis result path: /opt/ml/processing/output\u001b[0m\n",
      "\u001b[34m2023-02-08 12:41:27,634 This host is algo-1.\u001b[0m\n",
      "\u001b[34m2023-02-08 12:41:27,634 This host is the leader.\u001b[0m\n",
      "\u001b[34m2023-02-08 12:41:27,634 Number of hosts in the cluster is 1.\u001b[0m\n",
      "\u001b[34m2023-02-08 12:41:27,879 Running Python / Pandas based analyzer.\u001b[0m\n",
      "\u001b[34m2023-02-08 12:41:27,879 Dataset type: text/csv uri: /opt/ml/processing/input/data\u001b[0m\n",
      "\u001b[34m2023-02-08 12:41:27,885 Loading dataset...\u001b[0m\n",
      "\u001b[34m/usr/local/lib/python3.9/site-packages/analyzer/data_loading/csv_data_loader.py:323: FutureWarning: The frame.append method is deprecated and will be removed from pandas in a future version. Use pandas.concat instead.\n",
      "  df = df.append(df_tmp, ignore_index=True)\u001b[0m\n",
      "\u001b[34m2023-02-08 12:41:27,898 Loaded dataset. Dataset info:\u001b[0m\n",
      "\u001b[34m<class 'pandas.core.frame.DataFrame'>\u001b[0m\n",
      "\u001b[34mRangeIndex: 4716 entries, 0 to 4715\u001b[0m\n",
      "\u001b[34mData columns (total 13 columns):\n",
      " #   Column          Non-Null Count  Dtype\u001b[0m\n",
      "\u001b[34m---  ------          --------------  -----\n",
      " 0   age             4716 non-null   int64\n",
      " 1   workclass       4716 non-null   int64\n",
      " 2   fnlwgt          4716 non-null   int64\n",
      " 3   education-num   4716 non-null   int64\n",
      " 4   marital-status  4716 non-null   int64\n",
      " 5   occupation      4716 non-null   int64\n",
      " 6   relationship    4716 non-null   int64\n",
      " 7   race            4716 non-null   int64\n",
      " 8   sex             4716 non-null   int64\n",
      " 9   capital-gain    4716 non-null   int64\n",
      " 10  capital-loss    4716 non-null   int64\n",
      " 11  hours-per-week  4716 non-null   int64\n",
      " 12  native-country  4716 non-null   int64\u001b[0m\n",
      "\u001b[34mdtypes: int64(13)\u001b[0m\n",
      "\u001b[34mmemory usage: 479.1 KB\u001b[0m\n",
      "\u001b[34m2023-02-08 12:41:27,954 Spinning up shadow endpoint\u001b[0m\n",
      "\u001b[34m2023-02-08 12:41:27,954 Creating endpoint-config with name sm-clarify-config-1675860087-97ed\u001b[0m\n",
      "\u001b[34m2023-02-08 12:41:28,119 Creating endpoint: 'sm-clarify-adult-xgb-model-2023-02-08-12-32-04-1675860088-18ad'\u001b[0m\n",
      "\u001b[34m2023-02-08 12:41:28,501 Using endpoint name: sm-clarify-adult-xgb-model-2023-02-08-12-32-04-1675860088-18ad\u001b[0m\n",
      "\u001b[34m2023-02-08 12:41:28,501 Waiting for endpoint ...\u001b[0m\n",
      "\u001b[34m2023-02-08 12:41:28,501 Checking endpoint status:\u001b[0m\n",
      "\u001b[34mLegend:\u001b[0m\n",
      "\u001b[34m(OutOfService: x, Creating: -, Updating: -, InService: !, RollingBack: <, Deleting: o, Failed: *)\u001b[0m\n",
      "\u001b[34m2023-02-08 12:44:29,062 Endpoint is in service after 181 seconds\u001b[0m\n",
      "\u001b[34m2023-02-08 12:44:29,062 Endpoint ready.\u001b[0m\n",
      "\u001b[34m2023-02-08 12:44:29,065 SHAP n_samples 15\u001b[0m\n",
      "\u001b[34m2023-02-08 12:44:29,175 =====================================================\u001b[0m\n",
      "\u001b[34m2023-02-08 12:44:29,175 Shap analyzer: explaining 4716 rows, 13 columns...\u001b[0m\n",
      "\u001b[34m2023-02-08 12:44:29,176 =====================================================\n",
      "  0% (0 of 4716) |                       | Elapsed Time: 0:00:00 ETA:  --:--:--\u001b[0m\n",
      "\u001b[34m 63% (2997 of 4716) |############        | Elapsed Time: 0:00:30 ETA:   0:00:17\u001b[0m\n",
      "\u001b[34m100% (4716 of 4716) |####################| Elapsed Time: 0:00:46 Time:  0:00:46\u001b[0m\n",
      "\u001b[34m2023-02-08 12:45:15,576 getting explanations took 46.40 seconds.\u001b[0m\n",
      "\u001b[34m2023-02-08 12:45:15,576 ===================================================\u001b[0m\n",
      "\u001b[34m2023-02-08 12:45:15,576 Falling back to generic labels: label0, label1, ...\u001b[0m\n",
      "\u001b[34m2023-02-08 12:45:15,868 converting explanations to tabular took 0.29 seconds.\u001b[0m\n",
      "\u001b[34m2023-02-08 12:45:15,868 ===================================================\u001b[0m\n",
      "\u001b[34m2023-02-08 12:45:15,870 Wrote baseline used to compute explanations to: /opt/ml/processing/output/explanations_shap/baseline.csv\u001b[0m\n",
      "\u001b[34m2023-02-08 12:45:15,963 Wrote 4716 local explanations to: /opt/ml/processing/output/explanations_shap/out.csv\u001b[0m\n",
      "\u001b[34m2023-02-08 12:45:15,963 writing local explanations took 0.10 seconds.\u001b[0m\n",
      "\u001b[34m2023-02-08 12:45:15,963 ===================================================\u001b[0m\n",
      "\u001b[34m/usr/local/lib/python3.9/site-packages/numpy/core/fromnumeric.py:3430: FutureWarning: In a future version, DataFrame.mean(axis=None) will return a scalar mean over the entire DataFrame. To retain the old behavior, use 'frame.mean(axis=0)' or just 'frame.mean()'\n",
      "  return mean(axis=axis, dtype=dtype, out=out, **kwargs)\u001b[0m\n",
      "\u001b[34m2023-02-08 12:45:15,966 aggregating local explanations took 0.00 seconds.\u001b[0m\n",
      "\u001b[34m2023-02-08 12:45:15,966 ===================================================\u001b[0m\n",
      "\u001b[34m2023-02-08 12:45:15,966 Shap analysis finished.\u001b[0m\n",
      "\u001b[34m2023-02-08 12:45:15,966 Calculated global analysis with predictor\u001b[0m\n",
      "\u001b[34m2023-02-08 12:45:15,966 Stop using endpoint: sm-clarify-adult-xgb-model-2023-02-08-12-32-04-1675860088-18ad\u001b[0m\n",
      "\u001b[34m2023-02-08 12:45:15,966 Deleting endpoint configuration with name: sm-clarify-config-1675860087-97ed\u001b[0m\n",
      "\u001b[34m2023-02-08 12:45:16,120 Deleting endpoint with name: sm-clarify-adult-xgb-model-2023-02-08-12-32-04-1675860088-18ad\u001b[0m\n",
      "\u001b[34m2023-02-08 12:45:16,230 Model endpoint delivered 100.58883 requests per second and a total of 4718 requests over 47 seconds\u001b[0m\n",
      "\u001b[34m2023-02-08 12:45:16,230 Calculated global analysis without predictor\u001b[0m\n",
      "\u001b[34m2023-02-08 12:45:16,580 Stop using endpoint: None\u001b[0m\n",
      "\u001b[34m2023-02-08 12:45:30,164 ['jupyter', 'nbconvert', '--to', 'html', '--output', '/opt/ml/processing/output/report.html', '/opt/ml/processing/output/report.ipynb', '--template', 'sagemaker-xai']\u001b[0m\n",
      "\u001b[34m[NbConvertApp] Converting notebook /opt/ml/processing/output/report.ipynb to html\u001b[0m\n",
      "\u001b[34m[NbConvertApp] Writing 702226 bytes to /opt/ml/processing/output/report.html\u001b[0m\n",
      "\u001b[34m2023-02-08 12:45:31,269 ['wkhtmltopdf', '-q', '--enable-local-file-access', '/opt/ml/processing/output/report.html', '/opt/ml/processing/output/report.pdf']\u001b[0m\n",
      "\u001b[34m2023-02-08 12:45:31,967 Collected analyses: \u001b[0m\n",
      "\u001b[34m{\n",
      "    \"version\": \"1.0\",\n",
      "    \"explanations\": {\n",
      "        \"kernel_shap\": {\n",
      "            \"label0\": {\n",
      "                \"global_shap_values\": {\n",
      "                    \"age\": 0.07181729068930676,\n",
      "                    \"workclass\": 0.03793786374837958,\n",
      "                    \"fnlwgt\": 0.0489288100008702,\n",
      "                    \"education-num\": 0.10706969394091712,\n",
      "                    \"marital-status\": 0.08804551498089919,\n",
      "                    \"occupation\": 0.052826201855319554,\n",
      "                    \"relationship\": 0.052228233362573755,\n",
      "                    \"race\": 0.03282944376034809,\n",
      "                    \"sex\": 0.035114656728864976,\n",
      "                    \"capital-gain\": 0.04870902681289756,\n",
      "                    \"capital-loss\": 0.037006288002550174,\n",
      "                    \"hours-per-week\": 0.05515786650865015,\n",
      "                    \"native-country\": 0.07071634999931074\n",
      "                },\n",
      "                \"expected_value\": 0.8192543387413025\n",
      "            }\n",
      "        }\n",
      "    }\u001b[0m\n",
      "\u001b[34m}\u001b[0m\n",
      "\u001b[34m2023-02-08 12:45:31,968 exit_message: Completed: SageMaker XAI Analyzer ran successfully\u001b[0m\n",
      "\u001b[34m---!\u001b[0m\n",
      "\n"
     ]
    }
   ],
   "source": [
    "exp_datetime_5 = strftime('%Y-%m-%d-%H-%M-%S', gmtime())\n",
    "jobname = f'adult-sampled-clarify-posttraining-shap-{exp_datetime_5}'\n",
    "\n",
    "clarify_processor.run_explainability(\n",
    "    data_config=explainability_data_config,\n",
    "    model_config=model_config,\n",
    "    explainability_config=shap_config,\n",
    "    job_name=jobname,\n",
    "    experiment_config=experiment_config)"
   ]
  },
  {
   "cell_type": "code",
   "execution_count": 58,
   "metadata": {
    "tags": []
   },
   "outputs": [
    {
     "name": "stdout",
     "output_type": "stream",
     "text": [
      "Example number: 500\n",
      "with model prediction: <=50K\n",
      "\n",
      "Feature values: \n",
      "       target  age  workclass  fnlwgt  education-num  marital-status  \\\n",
      "12454       0   42          4   30824             14               0   \n",
      "\n",
      "       occupation  relationship  race  sex  capital-gain  capital-loss  \\\n",
      "12454          10             1     4    0          2354             0   \n",
      "\n",
      "       hours-per-week  native-country  \n",
      "12454              16              39  \n"
     ]
    },
    {
     "data": {
      "image/png": "[encoded data removed]",
      "text/plain": [
       "<Figure size 640x480 with 1 Axes>"
      ]
     },
     "metadata": {},
     "output_type": "display_data"
    }
   ],
   "source": [
    "S3Downloader.download(f'{explainability_output_path}/explanations_shap/out.csv', \n",
    "                      './',\n",
    "                      sagemaker_session=sess)\n",
    "local_explanations_out = pd.read_csv('out.csv')\n",
    "feature_names = [str.replace(c, '_label0', '') \n",
    "                 for c in local_explanations_out.columns.to_series()]\n",
    "local_explanations_out.columns = feature_names\n",
    "\n",
    "selected_example = 500\n",
    "sample_prediction='>50K' if sum(local_explanations_out.iloc[selected_example]) > 0 else '<=50K'\n",
    "print(f'Example number: {selected_example}')\n",
    "print(f'with model prediction: {sample_prediction}')\n",
    "print()\n",
    "print(f'Feature values: \\n{df_sampled.iloc[selected_example].to_frame().T}')\n",
    "\n",
    "local_explanations_out.iloc[selected_example].plot(\n",
    "    kind='barh', \n",
    "    title=f'Local explanation for the {selected_example}th example.', \n",
    "    rot=0)\n",
    "plt.show()"
   ]
  },
  {
   "cell_type": "code",
   "execution_count": null,
   "metadata": {},
   "outputs": [],
   "source": []
  }
 ],
 "metadata": {
  "instance_type": "ml.t3.medium",
  "kernelspec": {
   "display_name": "Python 3 (Data Science)",
   "language": "python",
   "name": "python3__SAGEMAKER_INTERNAL__arn:aws:sagemaker:us-east-1:081325390199:image/datascience-1.0"
  },
  "language_info": {
   "codemirror_mode": {
    "name": "ipython",
    "version": 3
   },
   "file_extension": ".py",
   "mimetype": "text/x-python",
   "name": "python",
   "nbconvert_exporter": "python",
   "pygments_lexer": "ipython3",
   "version": "3.7.10"
  }
 },
 "nbformat": 4,
 "nbformat_minor": 4
}
